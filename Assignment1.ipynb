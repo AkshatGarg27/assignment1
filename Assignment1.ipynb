{
 "cells": [
  {
   "cell_type": "markdown",
   "id": "3895de00-bf49-4979-aa23-5118c1d61cf0",
   "metadata": {},
   "source": [
    "Q1. Write all the conventions being followed while declaring a variable.\n",
    "Ans:- 1) variable name cannot begin with a digit .\n",
    "2) variable name cannot have spaces.\n",
    "3) variable name cannot be a keyword.\n",
    "4) variable nae are case sensitive."
   ]
  },
  {
   "cell_type": "markdown",
   "id": "52a745ce-8b9e-4e01-aec7-cfbb6ee8cd57",
   "metadata": {},
   "source": [
    "Q2. What will happen if we declare a restricted keyword as a variable?\n",
    "Ans:- if we declare a restricted keyword as a variable in python it will result in a error."
   ]
  },
  {
   "cell_type": "markdown",
   "id": "c97d2a4a-3a44-45af-a42f-e65fb3508e29",
   "metadata": {},
   "source": [
    "Q3. Can we actually declare a string as a variable name?\n",
    "Ans:- NO we cannot declare a string as a variable name."
   ]
  },
  {
   "cell_type": "code",
   "execution_count": null,
   "id": "cbae2814-0377-42ea-a915-67083eecb09c",
   "metadata": {},
   "outputs": [],
   "source": [
    "Q4. Is it possible for us to declare “” as a variable? If so, then write an example of it.\n",
    "Ans:- yes we can declare \"\" as a variable name.\n",
    "example:-\n",
    "\n",
    "_ = 50\n",
    "print(_)\n",
    "\n",
    "the output of the code will be:-\n",
    "\n",
    "50"
   ]
  }
 ],
 "metadata": {
  "kernelspec": {
   "display_name": "Python 3 (ipykernel)",
   "language": "python",
   "name": "python3"
  },
  "language_info": {
   "codemirror_mode": {
    "name": "ipython",
    "version": 3
   },
   "file_extension": ".py",
   "mimetype": "text/x-python",
   "name": "python",
   "nbconvert_exporter": "python",
   "pygments_lexer": "ipython3",
   "version": "3.10.8"
  }
 },
 "nbformat": 4,
 "nbformat_minor": 5
}
